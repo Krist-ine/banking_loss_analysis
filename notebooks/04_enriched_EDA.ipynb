{
 "cells": [
  {
   "cell_type": "markdown",
   "id": "cdb3154e",
   "metadata": {},
   "source": [
    "## 4. Enriched EDA: Investigating the \"Why\""
   ]
  },
  {
   "cell_type": "markdown",
   "id": "5e996d81",
   "metadata": {},
   "source": [
    "### 4.1. Data Loading"
   ]
  },
  {
   "cell_type": "code",
   "execution_count": 3,
   "id": "2ad30c31",
   "metadata": {},
   "outputs": [],
   "source": [
    "\n",
    "import pandas as pd\n",
    "import numpy as np\n",
    "import matplotlib.pyplot as plt\n",
    "import seaborn as sns\n",
    "from sqlalchemy import create_engine\n",
    "\n",
    "db_user = 'root'\n",
    "db_password = 'Kristine2004$'  \n",
    "db_host = 'localhost'\n",
    "db_name = 'banking_analysis'\n",
    "connection_str = f'mysql+mysqlconnector://{db_user}:{db_password}@{db_host}/{db_name}'\n",
    "engine = create_engine(connection_str)"
   ]
  },
  {
   "cell_type": "code",
   "execution_count": 9,
   "id": "1e105b4a",
   "metadata": {},
   "outputs": [
    {
     "name": "stdout",
     "output_type": "stream",
     "text": [
      "Master dataset created and saved to '../data/master_banking_analysis.csv'\n"
     ]
    }
   ],
   "source": [
    "sql_query = \"SELECT * FROM vw_master_analysis;\"\n",
    "\n",
    "df_master = pd.read_sql(sql_query, engine)\n",
    "    \n",
    "op_path = '../data/master_banking_analysis.csv'\n",
    "df_master.to_csv(op_path, index=False)\n",
    "    \n",
    "print(f\"Master dataset created and saved to '{op_path}'\")\n"
   ]
  },
  {
   "cell_type": "code",
   "execution_count": 10,
   "id": "e8b75d68",
   "metadata": {},
   "outputs": [
    {
     "name": "stdout",
     "output_type": "stream",
     "text": [
      "<class 'pandas.core.frame.DataFrame'>\n",
      "RangeIndex: 35 entries, 0 to 34\n",
      "Data columns (total 24 columns):\n",
      " #   Column                 Non-Null Count  Dtype  \n",
      "---  ------                 --------------  -----  \n",
      " 0   State                  35 non-null     object \n",
      " 1   Loss_2018_19           35 non-null     float64\n",
      " 2   Loss_2019_20           35 non-null     float64\n",
      " 3   YoY_Change_2019_20     35 non-null     float64\n",
      " 4   Loss_2020_21           35 non-null     float64\n",
      " 5   YoY_Change_2020_21     34 non-null     float64\n",
      " 6   Loss_2021_22           35 non-null     float64\n",
      " 7   YoY_Change_2021_22     35 non-null     float64\n",
      " 8   Loss_2022_23           35 non-null     float64\n",
      " 9   YoY_Change_2022_23     33 non-null     float64\n",
      " 10  Loss_2023_24           35 non-null     float64\n",
      " 11  YoY_Change_2023_24     31 non-null     float64\n",
      " 12  Loss_2024_25           35 non-null     float64\n",
      " 13  YoY_Change_2024_25     34 non-null     float64\n",
      " 14  Population_Total       33 non-null     float64\n",
      " 15  Population_Male        33 non-null     float64\n",
      " 16  Population_Female      33 non-null     float64\n",
      " 17  GSDP_2018-19           34 non-null     object \n",
      " 18  GSDP_2019-20           34 non-null     object \n",
      " 19  GSDP_2020-21           34 non-null     object \n",
      " 20  GSDP_2021-22           34 non-null     object \n",
      " 21  GSDP_2022-23           34 non-null     object \n",
      " 22  Bank_Branches_Total    34 non-null     float64\n",
      " 23  Literacy_Rate_Percent  34 non-null     float64\n",
      "dtypes: float64(18), object(6)\n",
      "memory usage: 6.7+ KB\n"
     ]
    }
   ],
   "source": [
    "df_master.info()\n"
   ]
  },
  {
   "cell_type": "markdown",
   "id": "220fc5e2",
   "metadata": {},
   "source": []
  },
  {
   "cell_type": "code",
   "execution_count": null,
   "id": "ee310a8d",
   "metadata": {},
   "outputs": [],
   "source": []
  }
 ],
 "metadata": {
  "kernelspec": {
   "display_name": "venv",
   "language": "python",
   "name": "python3"
  },
  "language_info": {
   "codemirror_mode": {
    "name": "ipython",
    "version": 3
   },
   "file_extension": ".py",
   "mimetype": "text/x-python",
   "name": "python",
   "nbconvert_exporter": "python",
   "pygments_lexer": "ipython3",
   "version": "3.13.7"
  }
 },
 "nbformat": 4,
 "nbformat_minor": 5
}

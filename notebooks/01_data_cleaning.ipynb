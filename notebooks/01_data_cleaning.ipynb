{
 "cells": [
  {
   "cell_type": "markdown",
   "id": "4369b242",
   "metadata": {},
   "source": [
    "## 1. Data Cleaning and Preprocessing"
   ]
  },
  {
   "cell_type": "code",
   "execution_count": null,
   "id": "95dfc777",
   "metadata": {},
   "outputs": [],
   "source": [
    "import pandas as pd\n",
    "import numpy as np\n",
    "from sqlalchemy import create_engine"
   ]
  },
  {
   "cell_type": "markdown",
   "id": "dcf2edbd",
   "metadata": {},
   "source": [
    "### 1.1. Initial Data Exploration\n"
   ]
  },
  {
   "cell_type": "code",
   "execution_count": 2,
   "id": "957df3ca",
   "metadata": {},
   "outputs": [
    {
     "name": "stdout",
     "output_type": "stream",
     "text": [
      "ROWS, COLUMNS : \n",
      " (38, 14) \n",
      "\n",
      "\n",
      "TOP ROWS : \n",
      "   Sl. No.                     State/UT  2018-19  2019-20  % change (YoY)  \\\n",
      "0       1  Andaman and Nicobar Islands     0.11     0.07           -37.0   \n",
      "1       2               Andhra Pradesh     0.15     1.30           797.0   \n",
      "2       3            Arunachal Pradesh     0.01     0.05           566.0   \n",
      "3       4                        Assam     0.81     2.39           195.0   \n",
      "4       5                        Bihar     0.34     0.63            85.0   \n",
      "\n",
      "   2020-21  % change (YoY).1  2021-22  % change (YoY).2  2022-23  \\\n",
      "0     0.00             -98.0     0.00            -100.0     0.00   \n",
      "1     0.72             -45.0     0.29             -59.0     3.30   \n",
      "2     0.38             720.0     0.00             -99.0     0.00   \n",
      "3     1.68             -30.0     1.04             -38.0     0.25   \n",
      "4     1.09              73.0     2.08              90.0     1.20   \n",
      "\n",
      "   % change (YoY).3  2023-24  % change (YoY).4  2024-25 (Till Sept'24)  \n",
      "0               NaN     0.00               NaN                    0.00  \n",
      "1            1022.0     1.76             -0.47                    0.77  \n",
      "2               7.0     0.00             -1.00                    0.01  \n",
      "3             -76.0     0.74              1.95                    0.06  \n",
      "4             -42.0     0.39             -0.67                    0.42   \n",
      "\n",
      "\n",
      "COLUMN NAMES : \n",
      " Index(['Sl. No.', 'State/UT', '2018-19', '2019-20', '% change (YoY)',\n",
      "       '2020-21', '% change (YoY).1', '2021-22', '% change (YoY).2', '2022-23',\n",
      "       '% change (YoY).3', '2023-24', '% change (YoY).4',\n",
      "       '2024-25 (Till Sept'24)'],\n",
      "      dtype='object') \n",
      "\n",
      "\n",
      "INFO :\n",
      "<class 'pandas.core.frame.DataFrame'>\n",
      "RangeIndex: 38 entries, 0 to 37\n",
      "Data columns (total 14 columns):\n",
      " #   Column                  Non-Null Count  Dtype  \n",
      "---  ------                  --------------  -----  \n",
      " 0   Sl. No.                 38 non-null     object \n",
      " 1   State/UT                38 non-null     object \n",
      " 2   2018-19                 33 non-null     float64\n",
      " 3   2019-20                 36 non-null     float64\n",
      " 4   % change (YoY)          34 non-null     float64\n",
      " 5   2020-21                 35 non-null     float64\n",
      " 6   % change (YoY).1        35 non-null     float64\n",
      " 7   2021-22                 36 non-null     float64\n",
      " 8   % change (YoY).2        35 non-null     float64\n",
      " 9   2022-23                 36 non-null     float64\n",
      " 10  % change (YoY).3        33 non-null     float64\n",
      " 11  2023-24                 36 non-null     float64\n",
      " 12  % change (YoY).4        32 non-null     float64\n",
      " 13  2024-25 (Till Sept'24)  37 non-null     float64\n",
      "dtypes: float64(12), object(2)\n",
      "memory usage: 4.3+ KB\n",
      "\n",
      "\n",
      " DESCRIPTION : \n",
      "          2018-19    2019-20  % change (YoY)    2020-21  % change (YoY).1  \\\n",
      "count  33.000000  36.000000       34.000000  35.000000         35.000000   \n",
      "mean    5.593636   4.583889      135.029412   4.979429         50.742857   \n",
      "std    16.579965  13.993204      243.034414  14.999836        154.272361   \n",
      "min     0.010000   0.000000      -89.000000   0.000000       -100.000000   \n",
      "25%     0.110000   0.070000      -30.000000   0.110000        -32.500000   \n",
      "50%     0.450000   0.430000       17.000000   0.750000          6.000000   \n",
      "75%     1.430000   1.992500      188.750000   2.175000         89.500000   \n",
      "max    92.290000  82.510000      797.000000  87.130000        720.000000   \n",
      "\n",
      "          2021-22  % change (YoY).2    2022-23  % change (YoY).3     2023-24  \\\n",
      "count   36.000000         35.000000  36.000000         33.000000   36.000000   \n",
      "mean     6.409167         37.742857   4.736667         26.060606   10.552778   \n",
      "std     19.508489        192.892281  14.264627        218.503424   32.457793   \n",
      "min      0.000000       -100.000000   0.000000       -100.000000    0.000000   \n",
      "25%      0.020000        -60.000000   0.010000        -68.000000    0.050000   \n",
      "50%      0.490000        -22.000000   0.430000        -42.000000    1.080000   \n",
      "75%      3.662500         84.000000   3.592500         25.000000    6.050000   \n",
      "max    115.350000        983.000000  85.260000       1022.000000  189.950000   \n",
      "\n",
      "       % change (YoY).4  2024-25 (Till Sept'24)  \n",
      "count         32.000000               37.000000  \n",
      "mean          17.145313                5.488649  \n",
      "std           51.665432               17.605152  \n",
      "min           -1.000000                0.000000  \n",
      "25%           -0.292500                0.020000  \n",
      "50%            0.455000                0.210000  \n",
      "75%            2.095000                2.190000  \n",
      "max          265.740000              101.530000   \n",
      "\n",
      "\n"
     ]
    }
   ],
   "source": [
    "\n",
    "df = pd.read_csv('../data/loss_details.csv')\n",
    "print(f\"ROWS, COLUMNS : \\n {df.shape} \\n\\n\")\n",
    "print(f\"TOP ROWS : \\n {df.head()} \\n\\n\")\n",
    "print(f\"COLUMN NAMES : \\n {df.columns} \\n\\n\")\n",
    "print(\"INFO :\")\n",
    "df.info()\n",
    "print(f\"\\n\\n DESCRIPTION : \\n {df.describe()} \\n\\n\")"
   ]
  },
  {
   "cell_type": "markdown",
   "id": "38bdd18f",
   "metadata": {},
   "source": [
    "### 1.2. Data Cleaning\n"
   ]
  },
  {
   "cell_type": "code",
   "execution_count": 4,
   "id": "d1e11957",
   "metadata": {},
   "outputs": [],
   "source": [
    "df = df.drop(columns=['Sl. No.'])\n",
    "df.rename(columns={\n",
    "    'State/UT': 'State',\n",
    "    '2018-19': 'Loss_2018_19',\n",
    "    '2019-20': 'Loss_2019_20',\n",
    "    '% change (YoY)': 'YoY_Change_2019_20',\n",
    "    '2020-21': 'Loss_2020_21',\n",
    "    '% change (YoY).1': 'YoY_Change_2020_21',\n",
    "    '2021-22': 'Loss_2021_22',\n",
    "    '% change (YoY).2': 'YoY_Change_2021_22',\n",
    "    '2022-23': 'Loss_2022_23',\n",
    "    '% change (YoY).3': 'YoY_Change_2022_23',\n",
    "    '2023-24': 'Loss_2023_24',\n",
    "    '% change (YoY).4': 'YoY_Change_2023_24',\n",
    "    \"2024-25 (Till Sept'24)\": 'Loss_2024_25'\n",
    "}, inplace=True)"
   ]
  },
  {
   "cell_type": "code",
   "execution_count": 5,
   "id": "9ac04460",
   "metadata": {},
   "outputs": [],
   "source": [
    "df.dropna(thresh=df.shape[1] - 5, inplace=True)"
   ]
  },
  {
   "cell_type": "code",
   "execution_count": 6,
   "id": "f74e3ce2",
   "metadata": {},
   "outputs": [],
   "source": [
    "# Recalculate YoY changes\n",
    "years = ['Loss_2018_19', 'Loss_2019_20', 'Loss_2020_21',\n",
    "         'Loss_2021_22', 'Loss_2022_23', 'Loss_2023_24', 'Loss_2024_25']\n",
    "\n",
    "for i in range(1, len(years)):\n",
    "    prev_col = years[i-1]\n",
    "    curr_col = years[i]\n",
    "    target_col = f\"YoY_Change_{curr_col.split('_')[1]}_{curr_col.split('_')[2]}\"\n",
    "\n",
    "    df[target_col] = np.where(\n",
    "        df[prev_col] == 0,\n",
    "        np.where(df[curr_col] == 0, 0, np.inf),\n",
    "        ((df[curr_col] - df[prev_col]) / df[prev_col]) * 100\n",
    "    )"
   ]
  },
  {
   "cell_type": "code",
   "execution_count": 7,
   "id": "5b78acb3",
   "metadata": {},
   "outputs": [
    {
     "name": "stdout",
     "output_type": "stream",
     "text": [
      "Data cleaning complete.\n",
      "<class 'pandas.core.frame.DataFrame'>\n",
      "Index: 36 entries, 0 to 37\n",
      "Data columns (total 14 columns):\n",
      " #   Column              Non-Null Count  Dtype  \n",
      "---  ------              --------------  -----  \n",
      " 0   State               36 non-null     object \n",
      " 1   Loss_2018_19        36 non-null     float64\n",
      " 2   Loss_2019_20        36 non-null     float64\n",
      " 3   YoY_Change_2019_20  36 non-null     float64\n",
      " 4   Loss_2020_21        36 non-null     float64\n",
      " 5   YoY_Change_2020_21  36 non-null     float64\n",
      " 6   Loss_2021_22        36 non-null     float64\n",
      " 7   YoY_Change_2021_22  36 non-null     float64\n",
      " 8   Loss_2022_23        36 non-null     float64\n",
      " 9   YoY_Change_2022_23  36 non-null     float64\n",
      " 10  Loss_2023_24        36 non-null     float64\n",
      " 11  YoY_Change_2023_24  36 non-null     float64\n",
      " 12  Loss_2024_25        36 non-null     float64\n",
      " 13  YoY_Change_2024_25  36 non-null     float64\n",
      "dtypes: float64(13), object(1)\n",
      "memory usage: 4.2+ KB\n"
     ]
    }
   ],
   "source": [
    "# Fill missing values\n",
    "loss_cols = [col for col in df.columns if 'Loss_' in col]\n",
    "df[loss_cols] = df[loss_cols].fillna(0)\n",
    "yoy_cols = [col for col in df.columns if 'YoY_Change_' in col]\n",
    "df[yoy_cols] = df[yoy_cols].fillna(0)\n",
    "\n",
    "print(\"Data cleaning complete.\")\n",
    "df.info()"
   ]
  },
  {
   "cell_type": "markdown",
   "id": "fb829f11",
   "metadata": {},
   "source": [
    "### 1.3. Loading Cleaned Data into MySQL"
   ]
  },
  {
   "cell_type": "code",
   "execution_count": null,
   "id": "480828f8",
   "metadata": {},
   "outputs": [
    {
     "name": "stdout",
     "output_type": "stream",
     "text": [
      "loaded to MySQL.\n",
      "saved to banking_losses_cleaned.csv\n"
     ]
    }
   ],
   "source": [
    "\n",
    "db_user = 'root'\n",
    "db_password = 'Kristine2004$' \n",
    "db_host = 'localhost'\n",
    "db_name = 'banking_analysis'\n",
    "connection_str = f'mysql+mysqlconnector://{db_user}:{db_password}@{db_host}/{db_name}'\n",
    "engine = create_engine(connection_str)\n",
    "\n",
    "df.replace([np.inf, -np.inf], np.nan, inplace=True)\n",
    "\n",
    "df.to_sql(\n",
    "    name='banking_losses',\n",
    "    con=engine,\n",
    "    if_exists='replace',\n",
    "    index=False\n",
    ")\n",
    "print(\"loaded to MySQL.\")\n",
    "\n",
    "df.to_csv('banking_losses_for_tableau.csv', index=False)\n",
    "print(\"saved to banking_losses_for_tableau.csv\")"
   ]
  },
  {
   "cell_type": "code",
   "execution_count": null,
   "id": "8e56f591",
   "metadata": {},
   "outputs": [],
   "source": []
  }
 ],
 "metadata": {
  "kernelspec": {
   "display_name": "venv",
   "language": "python",
   "name": "python3"
  },
  "language_info": {
   "codemirror_mode": {
    "name": "ipython",
    "version": 3
   },
   "file_extension": ".py",
   "mimetype": "text/x-python",
   "name": "python",
   "nbconvert_exporter": "python",
   "pygments_lexer": "ipython3",
   "version": "3.13.7"
  }
 },
 "nbformat": 4,
 "nbformat_minor": 5
}

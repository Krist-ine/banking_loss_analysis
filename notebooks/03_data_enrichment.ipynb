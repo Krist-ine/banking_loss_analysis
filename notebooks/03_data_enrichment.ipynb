{
 "cells": [
  {
   "cell_type": "markdown",
   "id": "9e0cd578",
   "metadata": {},
   "source": [
    "## 3. Data Enrichment - Understanding the \"Why\""
   ]
  },
  {
   "cell_type": "code",
   "execution_count": 1,
   "id": "fa4b07f7",
   "metadata": {},
   "outputs": [],
   "source": [
    "import pandas as pd\n",
    "import numpy as np\n",
    "from sqlalchemy import create_engine"
   ]
  },
  {
   "cell_type": "markdown",
   "id": "b50beaa0",
   "metadata": {},
   "source": [
    "### 3.1. Load Datasets"
   ]
  },
  {
   "cell_type": "code",
   "execution_count": 2,
   "id": "63f417b0",
   "metadata": {},
   "outputs": [
    {
     "name": "stdout",
     "output_type": "stream",
     "text": [
      "Banking losses data loaded from MySQL.\n",
      "External datasets loaded.\n"
     ]
    }
   ],
   "source": [
    "\n",
    "db_user = 'root'\n",
    "db_password = 'Kristine2004$'  \n",
    "db_host = 'localhost'\n",
    "db_name = 'banking_analysis'\n",
    "connection_str = f'mysql+mysqlconnector://{db_user}:{db_password}@{db_host}/{db_name}'\n",
    "engine = create_engine(connection_str)\n",
    "\n",
    "df_losses = pd.read_sql('SELECT * FROM banking_losses', engine)\n",
    "print(\"Banking losses data loaded from MySQL.\")\n",
    "\n",
    "df_population = pd.read_csv('../data/states_by_population_2019.csv', encoding='latin-1')\n",
    "df_gsdp = pd.read_csv('../data/states_by_GSDP_rs_billions_2018-23.csv', encoding='latin-1')\n",
    "df_branches = pd.read_csv('../data/states_distribution_bankBranches_2023.csv', encoding='latin-1')\n",
    "df_literacy = pd.read_csv('../data/states_by_literacy_percent_2023-24.csv', encoding='latin-1')\n",
    "print(\"External datasets loaded.\")"
   ]
  },
  {
   "cell_type": "markdown",
   "id": "6d159660",
   "metadata": {},
   "source": [
    "### 3.2. Data Cleaning and Standardization"
   ]
  },
  {
   "cell_type": "code",
   "execution_count": 3,
   "id": "15801481",
   "metadata": {},
   "outputs": [],
   "source": [
    "\n",
    "df_population.rename(columns={'total_population': 'Population_Total', 'population_male': 'Population_Male', 'population_female': 'Population_Female'}, inplace=True)\n",
    "df_gsdp.rename(columns={'State/Union Territory': 'State', '2018-19': 'GSDP_2018-19', '2019-20': 'GSDP_2019-20', '2020-21': 'GSDP_2020-21', '2021-22': 'GSDP_2021-22', '2022-23': 'GSDP_2022-23'}, inplace=True)\n",
    "df_branches.rename(columns={'Branches_2023': 'Bank_Branches_Total'}, inplace=True)\n",
    "df_literacy.rename(columns={'State/UT': 'State', 'Literacy Rate': 'Literacy_Rate_Percent'}, inplace=True)\n",
    "\n",
    "all_dfs = [df_losses, df_population, df_gsdp, df_branches, df_literacy]\n",
    "for df in all_dfs:\n",
    "    if 'State' in df.columns:\n",
    "        df['State'] = df['State'].str.upper().str.replace('&', 'AND').str.strip()"
   ]
  },
  {
   "cell_type": "markdown",
   "id": "70a97f07",
   "metadata": {},
   "source": [
    "### 3.3. Loading into MySQL"
   ]
  },
  {
   "cell_type": "code",
   "execution_count": null,
   "id": "8a1ef542",
   "metadata": {},
   "outputs": [],
   "source": [
    "df_losses.replace([np.inf, -np.inf], np.nan, inplace=True)\n",
    "\n",
    "df_losses.to_sql('banking_losses', con=engine, if_exists='replace', index=False)\n",
    "df_population.to_sql('state_population', con=engine, if_exists='replace', index=False)\n",
    "df_gsdp.to_sql('state_gsdp', con=engine, if_exists='replace', index=False)\n",
    "df_branches.to_sql('state_bank_branches', con=engine, if_exists='replace', index=False)\n",
    "df_literacy.to_sql('state_literacy', con=engine, if_exists='replace', index=False)\n",
    "\n",
    "print(\"All tables loaded into 'banking_analysis' database.\")"
   ]
  }
 ],
 "metadata": {
  "kernelspec": {
   "display_name": "venv",
   "language": "python",
   "name": "python3"
  },
  "language_info": {
   "codemirror_mode": {
    "name": "ipython",
    "version": 3
   },
   "file_extension": ".py",
   "mimetype": "text/x-python",
   "name": "python",
   "nbconvert_exporter": "python",
   "pygments_lexer": "ipython3",
   "version": "3.13.7"
  }
 },
 "nbformat": 4,
 "nbformat_minor": 5
}
